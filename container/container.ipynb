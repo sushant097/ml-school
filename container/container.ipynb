{
 "cells": [
  {
   "cell_type": "markdown",
   "id": "9157632c-a6a5-4efe-8c3e-a01e8a79b372",
   "metadata": {},
   "source": [
    "# Creating a Custom Container\n",
    "\n",
    "This notebook builds a custom container that we can deploy to a SageMaker endpoint. It uses `docker` commands directly and therefore doesn't run from a SageMaker Studio notebook.\n",
    "\n",
    "This notebook was created by [Santiago L. Valdarrama](https://twitter.com/svpino) as part of the [Machine Learning School](https://www.ml.school) program."
   ]
  },
  {
   "cell_type": "code",
   "execution_count": 8,
   "id": "9dd8d634-c0d1-4f28-8613-38fc0ab0cf1f",
   "metadata": {
    "tags": []
   },
   "outputs": [],
   "source": [
    "import sagemaker\n",
    "import boto3\n",
    "\n",
    "region = boto3.Session().region_name"
   ]
  },
  {
   "cell_type": "markdown",
   "id": "d7f06923-db33-4755-9b4d-409e184bf431",
   "metadata": {},
   "source": [
    "## Step 1 - Creating an ECR Repository\n",
    "\n",
    "We want to create an ECR repository to host the image of our custom endpoint."
   ]
  },
  {
   "cell_type": "code",
   "execution_count": 14,
   "id": "9f9b45c9-55d5-4fe3-bd84-0d8dd58976b3",
   "metadata": {
    "tags": []
   },
   "outputs": [
    {
     "name": "stdout",
     "output_type": "stream",
     "text": [
      "\n",
      "An error occurred (RepositoryAlreadyExistsException) when calling the CreateRepository operation: The repository with name 'penguins' already exists in the registry with id '325223348818'\n"
     ]
    },
    {
     "data": {
      "text/plain": [
       "'325223348818.dkr.ecr.us-east-1.amazonaws.com/penguins'"
      ]
     },
     "execution_count": 14,
     "metadata": {},
     "output_type": "execute_result"
    }
   ],
   "source": [
    "REPOSITORY_NAME = \"penguins\"\n",
    "\n",
    "!aws ecr create-repository --repository-name $REPOSITORY_NAME\n",
    "\n",
    "repository = !aws ecr describe-repositories \\\n",
    "    --repository-names $REPOSITORY_NAME \\\n",
    "    --query \"repositories[0].repositoryUri\"\n",
    "\n",
    "repository_uri = repository[0][1:-1]\n",
    "repository = repository_uri[0:repository_uri.index(\"/\")]\n",
    "\n",
    "repository_uri"
   ]
  },
  {
   "cell_type": "markdown",
   "id": "2304ad22-6a56-4226-9118-8ec029fe3b9d",
   "metadata": {},
   "source": [
    "## Step 2 - Build and Push the Image to ECR\n",
    "\n",
    "Now we can build the image and push it to Elastic Container Registry."
   ]
  },
  {
   "cell_type": "code",
   "execution_count": 15,
   "id": "657c154d-2b13-4c19-8734-fe7e5e0999d9",
   "metadata": {
    "tags": []
   },
   "outputs": [
    {
     "name": "stdout",
     "output_type": "stream",
     "text": [
      "WARNING! Your password will be stored unencrypted in /home/ec2-user/.docker/config.json.\n",
      "Configure a credential helper to remove this warning. See\n",
      "https://docs.docker.com/engine/reference/commandline/login/#credentials-store\n",
      "\n",
      "Login Succeeded\n",
      "Sending build context to Docker daemon  133.1kB\n",
      "Step 1/10 : FROM 763104351884.dkr.ecr.us-east-1.amazonaws.com/tensorflow-inference:2.4-cpu AS sagemaker\n",
      " ---> f0835ba9191e\n",
      "Step 2/10 : RUN apt-get clean &&     apt-get update -y &&     apt-get install -y --no-install-recommends     libgl1-mesa-glx\n",
      " ---> Using cache\n",
      " ---> 1384d0f73d12\n",
      "Step 3/10 : RUN pip install --upgrade pip\n",
      " ---> Using cache\n",
      " ---> ed101bf7a6f2\n",
      "Step 4/10 : RUN pip install pandas\n",
      " ---> Using cache\n",
      " ---> 34715e9b9c85\n",
      "Step 5/10 : RUN pip install numpy\n",
      " ---> Using cache\n",
      " ---> 2b3dc8e6ef98\n",
      "Step 6/10 : RUN pip install requests\n",
      " ---> Using cache\n",
      " ---> 4024b78363a0\n",
      "Step 7/10 : RUN pip install tensorflow==2.4\n",
      " ---> Using cache\n",
      " ---> ba3739fd7725\n",
      "Step 8/10 : RUN pip install scikit-learn==0.23.2\n",
      " ---> Using cache\n",
      " ---> 22d4dba8d502\n",
      "Step 9/10 : LABEL com.amazonaws.sagemaker.capabilities.multi-models=false\n",
      " ---> Using cache\n",
      " ---> 0b87f59ec124\n",
      "Step 10/10 : ENV SAGEMAKER_MULTI_MODEL=false\n",
      " ---> Using cache\n",
      " ---> ea2c7c3a2484\n",
      "Successfully built ea2c7c3a2484\n",
      "Successfully tagged 325223348818.dkr.ecr.us-east-1.amazonaws.com/penguins:latest\n",
      "WARNING! Your password will be stored unencrypted in /home/ec2-user/.docker/config.json.\n",
      "Configure a credential helper to remove this warning. See\n",
      "https://docs.docker.com/engine/reference/commandline/login/#credentials-store\n",
      "\n",
      "Login Succeeded\n",
      "The push refers to repository [325223348818.dkr.ecr.us-east-1.amazonaws.com/penguins]\n",
      "\n",
      "\u001b[1B2881cb53: Preparing \n",
      "\u001b[1Ba03cc1dc: Preparing \n",
      "\u001b[1Bbcaa48ee: Preparing \n",
      "\u001b[1Bac09cb63: Preparing \n",
      "\u001b[1B0ed3cab6: Preparing \n",
      "\u001b[1B82fe1c60: Preparing \n",
      "\u001b[1B5558e49b: Preparing \n",
      "\u001b[1B991f34f5: Preparing \n",
      "\u001b[1B546c6654: Preparing \n",
      "\u001b[1B55cdeb68: Preparing \n",
      "\u001b[1B575347f5: Preparing \n",
      "\u001b[1B3bbf54e2: Preparing \n",
      "\u001b[1B3134e387: Preparing \n",
      "\u001b[1Ba410829a: Preparing \n",
      "\u001b[1B3758ed28: Preparing \n",
      "\u001b[1B42f92269: Preparing \n",
      "\u001b[1B0cbabe8a: Preparing \n",
      "\u001b[1B37bbe014: Preparing \n",
      "\u001b[1Bf1602fb4: Preparing \n",
      "\u001b[1Ba595572a: Preparing \n",
      "\u001b[1Bea5d623f: Preparing \n",
      "\u001b[1Baaf39448: Preparing \n",
      "\u001b[1B9b09744f: Layer already exists \u001b[22A\u001b[2K\u001b[17A\u001b[2K\u001b[12A\u001b[2K\u001b[7A\u001b[2K\u001b[2A\u001b[2Klatest: digest: sha256:5cdafa465bf301b4b083eec1696ced447d5adc126a7bbc1afc0bf37011e07b1f size: 5149\n"
     ]
    }
   ],
   "source": [
    "# The custom image we are creating inherits from a built-in SageMaker image. \n",
    "# To get access to it, we need to authenticate with their ECR repository.\n",
    "!aws ecr get-login-password --region $region | docker login --username AWS --password-stdin 763104351884.dkr.ecr.us-east-1.amazonaws.com\n",
    "\n",
    "# Build the image using the Dockerfile located in the current directory.\n",
    "!docker build -t $repository_uri:latest .\n",
    "\n",
    "# To push the image we need to authenticate with our ECR repository.\n",
    "!aws ecr get-login-password | docker login --username AWS --password-stdin $repository\n",
    "\n",
    "# Push the image to the repository\n",
    "!docker push $repository_uri:latest"
   ]
  },
  {
   "cell_type": "code",
   "execution_count": null,
   "id": "d6820e6f-14e5-477f-9d5a-145e252fb634",
   "metadata": {},
   "outputs": [],
   "source": []
  }
 ],
 "metadata": {
  "kernelspec": {
   "display_name": "conda_python3",
   "language": "python",
   "name": "conda_python3"
  },
  "language_info": {
   "codemirror_mode": {
    "name": "ipython",
    "version": 3
   },
   "file_extension": ".py",
   "mimetype": "text/x-python",
   "name": "python",
   "nbconvert_exporter": "python",
   "pygments_lexer": "ipython3",
   "version": "3.10.8"
  }
 },
 "nbformat": 4,
 "nbformat_minor": 5
}
